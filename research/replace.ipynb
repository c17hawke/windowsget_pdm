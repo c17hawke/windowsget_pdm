{
 "cells": [
  {
   "cell_type": "code",
   "execution_count": 3,
   "metadata": {},
   "outputs": [
    {
     "data": {
      "text/plain": [
       "'c:\\\\Users\\\\Admin\\\\Desktop\\\\playground\\\\udemy\\\\trial\\\\pdm-trials\\\\windowsget_pdm'"
      ]
     },
     "execution_count": 3,
     "metadata": {},
     "output_type": "execute_result"
    }
   ],
   "source": [
    "import os\n",
    "os.chdir(\"../\")\n",
    "os.getcwd()"
   ]
  },
  {
   "cell_type": "code",
   "execution_count": 8,
   "metadata": {},
   "outputs": [],
   "source": [
    "import fileinput\n",
    "\n",
    "\n",
    "def replace(file_path, target, new_string):\n",
    "    with fileinput.FileInput(file_path, inplace=True) as f:\n",
    "        # Loop through each line in the file\n",
    "        for line in f:\n",
    "            # Replace the target string with the new string\n",
    "            new_line = line.replace(target, new_string)\n",
    "            # Write the modified line to the file\n",
    "            print(new_line, end=\"\")\n",
    "\n",
    "# Set the path to the directory containing the files\n",
    "path = \"./tests\"\n",
    "\n",
    "# Set the target and new strings\n",
    "target = \"windowsget\"\n",
    "new_string = \"windowsget_pdm\"\n",
    "\n",
    "# Loop through each file in the directory and its subdirectories\n",
    "for root, dirs, files in os.walk(path):\n",
    "    for file in files:\n",
    "        # Open the file for reading and writing\n",
    "        file_path = os.path.join(root, file)\n",
    "        replace(file_path, target, new_string)\n"
   ]
  },
  {
   "cell_type": "code",
   "execution_count": null,
   "metadata": {},
   "outputs": [],
   "source": []
  }
 ],
 "metadata": {
  "kernelspec": {
   "display_name": "base",
   "language": "python",
   "name": "python3"
  },
  "language_info": {
   "codemirror_mode": {
    "name": "ipython",
    "version": 3
   },
   "file_extension": ".py",
   "mimetype": "text/x-python",
   "name": "python",
   "nbconvert_exporter": "python",
   "pygments_lexer": "ipython3",
   "version": "3.10.9"
  },
  "orig_nbformat": 4
 },
 "nbformat": 4,
 "nbformat_minor": 2
}
